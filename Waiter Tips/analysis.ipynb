{
 "cells": [
  {
   "cell_type": "code",
   "execution_count": null,
   "metadata": {},
   "outputs": [],
   "source": [
    "import pandas as pd\n",
    "import numpy as np\n",
    "import plotly.express as px\n",
    "import plotly.graph_objects as go\n",
    "\n",
    "data = pd.read_csv(\"tips.csv\")\n",
    "print(data.head())"
   ]
  },
  {
   "cell_type": "code",
   "execution_count": null,
   "metadata": {},
   "outputs": [],
   "source": [
    "figure = px.scatter(data, \n",
    "                    x=\"total_bill\",\n",
    "                    y=\"tip\", \n",
    "                    size=\"size\", \n",
    "                    color= \"day\", \n",
    "                    trendline=\"ols\", \n",
    "                    title=\"Total Bill vs Tip by Day\", \n",
    "                    height=400,\n",
    "                    width=1200,\n",
    "                    opacity=0.5)\n",
    "figure.show()"
   ]
  },
  {
   "cell_type": "code",
   "execution_count": null,
   "metadata": {},
   "outputs": [],
   "source": [
    "figure = px.scatter(data_frame = data, x=\"total_bill\",\n",
    "                    y=\"tip\", size=\"size\", color= \"sex\", trendline=\"ols\")\n",
    "figure.show()"
   ]
  },
  {
   "cell_type": "code",
   "execution_count": null,
   "metadata": {},
   "outputs": [],
   "source": [
    "figure = px.scatter(data_frame = data, x=\"total_bill\",\n",
    "                    y=\"tip\", size=\"size\", color= \"time\", trendline=\"ols\")\n",
    "figure.show()"
   ]
  },
  {
   "cell_type": "code",
   "execution_count": null,
   "metadata": {},
   "outputs": [],
   "source": [
    "figure = px.pie(data, \n",
    "             values='tip', \n",
    "             names='day',\n",
    "             hole = 0.5,\n",
    "             height=500, width=500)\n",
    "figure.show()"
   ]
  },
  {
   "cell_type": "code",
   "execution_count": null,
   "metadata": {},
   "outputs": [],
   "source": [
    "figure = px.pie(data, \n",
    "             values='tip', \n",
    "             names='sex',hole = 0.5,\n",
    "             height=500, width=500)\n",
    "figure.show()"
   ]
  },
  {
   "cell_type": "markdown",
   "metadata": {},
   "source": [
    "## Transforming categorical values into numerical values"
   ]
  },
  {
   "cell_type": "code",
   "execution_count": null,
   "metadata": {},
   "outputs": [],
   "source": [
    "data[\"sex\"] = data[\"sex\"].map({\"Female\": 0, \"Male\": 1})\n",
    "data[\"smoker\"] = data[\"smoker\"].map({\"No\": 0, \"Yes\": 1})\n",
    "data[\"day\"] = data[\"day\"].map({\"Thur\": 0, \"Fri\": 1, \"Sat\": 2, \"Sun\": 3})\n",
    "data[\"time\"] = data[\"time\"].map({\"Lunch\": 0, \"Dinner\": 1})\n",
    "data.head()"
   ]
  },
  {
   "cell_type": "markdown",
   "metadata": {},
   "source": [
    "## Machine Learning Model"
   ]
  },
  {
   "cell_type": "code",
   "execution_count": null,
   "metadata": {},
   "outputs": [],
   "source": [
    "# Splitting data into training and test sets\n",
    "x = np.array(data[[\"total_bill\", \"sex\", \"smoker\", \"day\", \n",
    "                   \"time\", \"size\"]])\n",
    "y = np.array(data[\"tip\"])\n",
    "\n",
    "from sklearn.model_selection import train_test_split\n",
    "xtrain, xtest, ytrain, ytest = train_test_split(x, y, \n",
    "                                                test_size=0.2, \n",
    "                                                random_state=42)"
   ]
  },
  {
   "cell_type": "code",
   "execution_count": null,
   "metadata": {},
   "outputs": [],
   "source": [
    "# Training the model to predict waiter tips\n",
    "from sklearn.linear_model import LinearRegression\n",
    "model = LinearRegression()\n",
    "model.fit(xtrain, ytrain)"
   ]
  },
  {
   "cell_type": "code",
   "execution_count": 64,
   "metadata": {},
   "outputs": [
    {
     "data": {
      "text/plain": [
       "array([5.1051877])"
      ]
     },
     "execution_count": 64,
     "metadata": {},
     "output_type": "execute_result"
    }
   ],
   "source": [
    "# testing performance of the model\n",
    "# features = [[total_bill, \"sex\", \"smoker\", \"day\", \"time\", \"size\"]]\n",
    "features = np.array([[34.50, 1, 0, 3, 1, 5]])\n",
    "model.predict(features)"
   ]
  },
  {
   "cell_type": "markdown",
   "metadata": {},
   "source": [
    "This model predicts that for a scenario with the following attributes, the tip will be $5.11:<br>\n",
    "-bill of 34.50 (with tax)<br>\n",
    "-male waiter<br>\n",
    "-non smoking table<br>\n",
    "-on a Sunday<br>\n",
    "-for dinner<br>\n",
    "-group of 5 patrons<br>\n"
   ]
  }
 ],
 "metadata": {
  "kernelspec": {
   "display_name": "Python 3",
   "language": "python",
   "name": "python3"
  },
  "language_info": {
   "codemirror_mode": {
    "name": "ipython",
    "version": 3
   },
   "file_extension": ".py",
   "mimetype": "text/x-python",
   "name": "python",
   "nbconvert_exporter": "python",
   "pygments_lexer": "ipython3",
   "version": "3.12.3"
  }
 },
 "nbformat": 4,
 "nbformat_minor": 2
}
